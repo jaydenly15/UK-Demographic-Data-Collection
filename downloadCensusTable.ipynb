{
 "cells": [
  {
   "cell_type": "code",
   "execution_count": null,
   "id": "e0b9b28c",
   "metadata": {},
   "outputs": [],
   "source": [
    "import pandas as pd\n",
    "import requests\n",
    "from io import BytesIO\n",
    "from rapidfuzz import process, fuzz\n",
    "import logging\n",
    "\n",
    "# Setup basic logging\n",
    "logging.basicConfig(level=logging.INFO, format='%(levelname)s - %(message)s')\n"
   ]
  },
  {
   "cell_type": "code",
   "execution_count": 2,
   "id": "624a38b5",
   "metadata": {},
   "outputs": [],
   "source": [
    "availableDatasets_2011 = pd.read_csv('datasets_lsoa_2011.csv')\n",
    "availableDatasets_2021 = pd.read_csv('datasets_lsoa_2021.csv')\n",
    "\n",
    "def browseDatasets(searchStrings, availableDatasets):\n",
    "    # Define a function to check fuzzy match\n",
    "    def fuzzy_match(name, choices, threshold=98):\n",
    "        match, score, _ = process.extractOne(\n",
    "            name, choices, scorer=fuzz.token_set_ratio\n",
    "        )\n",
    "        return match if score >= threshold else None\n",
    "\n",
    "    # Apply fuzzy matching\n",
    "    availableDatasets[\"matched_interest\"] = availableDatasets[\"dataset_name\"].apply(\n",
    "        lambda x: fuzzy_match(x, searchStrings)\n",
    "    )\n",
    "\n",
    "    # Filter only rows with a match\n",
    "    matched_datasets = availableDatasets.dropna(subset=[\"matched_interest\"])\n",
    "    return matched_datasets"
   ]
  },
  {
   "cell_type": "markdown",
   "id": "143f6170",
   "metadata": {},
   "source": [
    "### Browse 2011 Census Datasets available at LSOA Level"
   ]
  },
  {
   "cell_type": "code",
   "execution_count": 3,
   "id": "36c447e1",
   "metadata": {},
   "outputs": [],
   "source": [
    "# Only need LSOAs in England and Wales\n",
    "availableDatasets_2011 = availableDatasets_2011[availableDatasets_2011['dataset_code'].str.endswith('EW')]"
   ]
  },
  {
   "cell_type": "code",
   "execution_count": 4,
   "id": "a4dd110b",
   "metadata": {},
   "outputs": [
    {
     "data": {
      "application/vnd.microsoft.datawrangler.viewer.v0+json": {
       "columns": [
        {
         "name": "index",
         "rawType": "int64",
         "type": "integer"
        },
        {
         "name": "dataset_id",
         "rawType": "object",
         "type": "string"
        },
        {
         "name": "dataset_name",
         "rawType": "object",
         "type": "string"
        },
        {
         "name": "dataset_code",
         "rawType": "object",
         "type": "string"
        }
       ],
       "ref": "e249887b-e2aa-4980-a661-a4ef1f56c7a0",
       "rows": [
        [
         "0",
         "NM_2254_1",
         "Ability to speak Welsh by employment history",
         "RM154"
        ],
        [
         "1",
         "NM_2249_1",
         "Ability to speak Welsh by industry",
         "RM149"
        ],
        [
         "2",
         "NM_2250_1",
         "Ability to speak Welsh by national identity by age",
         "RM150"
        ],
        [
         "3",
         "NM_2251_1",
         "Ability to speak Welsh by NS-SEC",
         "RM151"
        ],
        [
         "4",
         "NM_2252_1",
         "Ability to speak Welsh by occupation",
         "RM152"
        ],
        [
         "5",
         "NM_2253_1",
         "Ability to speak Welsh by tenure - Household Reference Persons",
         "RM153"
        ],
        [
         "6",
         "NM_2101_1",
         "Accommodation type by car or van availability by number of usual residents aged 17 years or over in household",
         "RM001"
        ],
        [
         "7",
         "NM_2102_1",
         "Accommodation type by household size",
         "RM002"
        ],
        [
         "8",
         "NM_2103_1",
         "Accommodation type by type of central heating in household by tenure",
         "RM003"
        ],
        [
         "9",
         "NM_2307_1",
         "Accommodation type",
         "RM207"
        ],
        [
         "10",
         "NM_2062_1",
         "Accommodation type",
         "TS044"
        ],
        [
         "11",
         "NM_2020_1",
         "Age by five-year age bands",
         "TS007A"
        ],
        [
         "12",
         "NM_2038_1",
         "Age of arrival in the UK",
         "TS018"
        ],
        [
         "13",
         "NM_2106_1",
         "Age of youngest dependent child by household type",
         "RM006"
        ],
        [
         "14",
         "NM_2311_1",
         "Approximated social grade - Household Reference Persons aged 16 to 64 years",
         "SG001"
        ],
        [
         "15",
         "NM_2322_1",
         "Approximated social grade by adult lifestage",
         "SG012"
        ],
        [
         "16",
         "NM_2323_1",
         "Approximated social grade by sex by age",
         "SG013"
        ],
        [
         "17",
         "NM_2312_1",
         "Approximated Social Grade",
         "SG002"
        ],
        [
         "18",
         "NM_2108_1",
         "Car or van availability by household composition",
         "RM008"
        ],
        [
         "19",
         "NM_2063_1",
         "Car or van availability",
         "TS045"
        ],
        [
         "20",
         "NM_2064_1",
         "Central heating",
         "TS046"
        ],
        [
         "21",
         "NM_2109_1",
         "Concealed family status by family type by dependent children by age of Family Reference Person",
         "RM009"
        ],
        [
         "22",
         "NM_2111_1",
         "Country of birth by age",
         "RM011"
        ],
        [
         "23",
         "NM_2024_1",
         "Country of birth",
         "TS004"
        ],
        [
         "24",
         "NM_2112_1",
         "Dependent children by ethnic group of Household Reference Person by age",
         "RM012"
        ],
        [
         "25",
         "NM_2257_1",
         "Disability by ability to speak Welsh by age",
         "RM157"
        ],
        [
         "26",
         "NM_2170_1",
         "Disability by NS-SEC by age",
         "RM070"
        ],
        [
         "27",
         "NM_2172_1",
         "Disability by religion by sex",
         "RM072"
        ],
        [
         "28",
         "NM_2056_1",
         "Disability",
         "TS038"
        ],
        [
         "29",
         "NM_2114_1",
         "Distance travelled to work by age",
         "RM014"
        ],
        [
         "30",
         "NM_2116_1",
         "Distance travelled to work by occupation",
         "RM016"
        ],
        [
         "31",
         "NM_2075_1",
         "Distance travelled to work",
         "TS058"
        ],
        [
         "32",
         "NM_2117_1",
         "Economic activity status by country of birth",
         "RM017"
        ],
        [
         "33",
         "NM_2118_1",
         "Economic activity status by ethnic group",
         "RM018"
        ],
        [
         "34",
         "NM_2119_1",
         "Economic activity status by hours worked by disability",
         "RM019"
        ],
        [
         "35",
         "NM_2121_1",
         "Economic activity status by passports held",
         "RM021"
        ],
        [
         "36",
         "NM_2122_1",
         "Economic activity status by provision of unpaid care by general health",
         "RM022"
        ],
        [
         "37",
         "NM_2123_1",
         "Economic activity status by religion",
         "RM023"
        ],
        [
         "38",
         "NM_2124_1",
         "Economic activity status by sex by age",
         "RM024"
        ],
        [
         "39",
         "NM_2125_1",
         "Economic activity status by sex by employment history",
         "RM025"
        ],
        [
         "40",
         "NM_2083_1",
         "Economic activity status",
         "TS066"
        ],
        [
         "41",
         "NM_2082_1",
         "Employment history",
         "TS065"
        ],
        [
         "42",
         "NM_2127_1",
         "Ethnic group by age of arrival in the UK",
         "RM027"
        ],
        [
         "43",
         "NM_2130_1",
         "Ethnic group by provision of unpaid care by general health",
         "RM030"
        ],
        [
         "44",
         "NM_2131_1",
         "Ethnic group by religion",
         "RM031"
        ],
        [
         "45",
         "NM_2132_1",
         "Ethnic group by sex by age",
         "RM032"
        ],
        [
         "46",
         "NM_2133_1",
         "Ethnic group of dependent child by sex",
         "RM033"
        ],
        [
         "47",
         "NM_2041_1",
         "Ethnic group",
         "TS021"
        ],
        [
         "48",
         "NM_2134_1",
         "Family status by number of parents working by economic activity status",
         "RM034"
        ],
        [
         "49",
         "NM_2255_1",
         "Family type by parents' ability to speak Welsh by age and ability to speak Welsh of dependent child",
         "RM155"
        ]
       ],
       "shape": {
        "columns": 3,
        "rows": 175
       }
      },
      "text/html": [
       "<div>\n",
       "<style scoped>\n",
       "    .dataframe tbody tr th:only-of-type {\n",
       "        vertical-align: middle;\n",
       "    }\n",
       "\n",
       "    .dataframe tbody tr th {\n",
       "        vertical-align: top;\n",
       "    }\n",
       "\n",
       "    .dataframe thead th {\n",
       "        text-align: right;\n",
       "    }\n",
       "</style>\n",
       "<table border=\"1\" class=\"dataframe\">\n",
       "  <thead>\n",
       "    <tr style=\"text-align: right;\">\n",
       "      <th></th>\n",
       "      <th>dataset_id</th>\n",
       "      <th>dataset_name</th>\n",
       "      <th>dataset_code</th>\n",
       "    </tr>\n",
       "  </thead>\n",
       "  <tbody>\n",
       "    <tr>\n",
       "      <th>0</th>\n",
       "      <td>NM_2254_1</td>\n",
       "      <td>Ability to speak Welsh by employment history</td>\n",
       "      <td>RM154</td>\n",
       "    </tr>\n",
       "    <tr>\n",
       "      <th>1</th>\n",
       "      <td>NM_2249_1</td>\n",
       "      <td>Ability to speak Welsh by industry</td>\n",
       "      <td>RM149</td>\n",
       "    </tr>\n",
       "    <tr>\n",
       "      <th>2</th>\n",
       "      <td>NM_2250_1</td>\n",
       "      <td>Ability to speak Welsh by national identity by...</td>\n",
       "      <td>RM150</td>\n",
       "    </tr>\n",
       "    <tr>\n",
       "      <th>3</th>\n",
       "      <td>NM_2251_1</td>\n",
       "      <td>Ability to speak Welsh by NS-SEC</td>\n",
       "      <td>RM151</td>\n",
       "    </tr>\n",
       "    <tr>\n",
       "      <th>4</th>\n",
       "      <td>NM_2252_1</td>\n",
       "      <td>Ability to speak Welsh by occupation</td>\n",
       "      <td>RM152</td>\n",
       "    </tr>\n",
       "    <tr>\n",
       "      <th>...</th>\n",
       "      <td>...</td>\n",
       "      <td>...</td>\n",
       "      <td>...</td>\n",
       "    </tr>\n",
       "    <tr>\n",
       "      <th>170</th>\n",
       "      <td>NM_2260_1</td>\n",
       "      <td>Welsh language skills by country of birth</td>\n",
       "      <td>RM160</td>\n",
       "    </tr>\n",
       "    <tr>\n",
       "      <th>171</th>\n",
       "      <td>NM_2261_1</td>\n",
       "      <td>Welsh language skills by sex by age</td>\n",
       "      <td>RM161</td>\n",
       "    </tr>\n",
       "    <tr>\n",
       "      <th>172</th>\n",
       "      <td>NM_2262_1</td>\n",
       "      <td>Welsh language skills by tenure - Household Re...</td>\n",
       "      <td>RM162</td>\n",
       "    </tr>\n",
       "    <tr>\n",
       "      <th>173</th>\n",
       "      <td>NM_2248_1</td>\n",
       "      <td>Year last worked by age</td>\n",
       "      <td>RM148</td>\n",
       "    </tr>\n",
       "    <tr>\n",
       "      <th>174</th>\n",
       "      <td>NM_2035_1</td>\n",
       "      <td>Year of arrival in UK</td>\n",
       "      <td>TS015</td>\n",
       "    </tr>\n",
       "  </tbody>\n",
       "</table>\n",
       "<p>175 rows × 3 columns</p>\n",
       "</div>"
      ],
      "text/plain": [
       "    dataset_id                                       dataset_name dataset_code\n",
       "0    NM_2254_1       Ability to speak Welsh by employment history        RM154\n",
       "1    NM_2249_1                 Ability to speak Welsh by industry        RM149\n",
       "2    NM_2250_1  Ability to speak Welsh by national identity by...        RM150\n",
       "3    NM_2251_1                   Ability to speak Welsh by NS-SEC        RM151\n",
       "4    NM_2252_1               Ability to speak Welsh by occupation        RM152\n",
       "..         ...                                                ...          ...\n",
       "170  NM_2260_1          Welsh language skills by country of birth        RM160\n",
       "171  NM_2261_1                Welsh language skills by sex by age        RM161\n",
       "172  NM_2262_1  Welsh language skills by tenure - Household Re...        RM162\n",
       "173  NM_2248_1                            Year last worked by age        RM148\n",
       "174  NM_2035_1                              Year of arrival in UK        TS015\n",
       "\n",
       "[175 rows x 3 columns]"
      ]
     },
     "execution_count": 4,
     "metadata": {},
     "output_type": "execute_result"
    }
   ],
   "source": [
    "availableDatasets_2021"
   ]
  },
  {
   "cell_type": "code",
   "execution_count": 5,
   "id": "f8d3a035",
   "metadata": {},
   "outputs": [
    {
     "data": {
      "application/vnd.microsoft.datawrangler.viewer.v0+json": {
       "columns": [
        {
         "name": "index",
         "rawType": "int64",
         "type": "integer"
        },
        {
         "name": "dataset_id",
         "rawType": "object",
         "type": "string"
        },
        {
         "name": "dataset_name",
         "rawType": "object",
         "type": "string"
        },
        {
         "name": "dataset_code",
         "rawType": "object",
         "type": "string"
        }
       ],
       "ref": "65646df7-29c9-495e-be63-943a5dce6ecc",
       "rows": [
        [
         "0",
         "NM_606_1",
         "Adults not in employment and dependent children and persons with long-term health problems or disability for all households",
         "KS106EW"
        ],
        [
         "1",
         "NM_145_1",
         "Age structure",
         "KS102EW"
        ],
        [
         "2",
         "NM_621_1",
         "Car or van availability",
         "KS404EW"
        ],
        [
         "4",
         "NM_622_1",
         "Communal establishment residents",
         "KS405EW"
        ],
        [
         "6",
         "NM_611_1",
         "Country of birth",
         "KS204EW"
        ],
        [
         "7",
         "NM_618_1",
         "Dwellings, household spaces and accommodation type",
         "KS401EW"
        ],
        [
         "11",
         "NM_624_1",
         "Economic activity by sex",
         "KS601EW to KS603EW"
        ],
        [
         "13",
         "NM_608_1",
         "Ethnic group",
         "KS201EW"
        ],
        [
         "15",
         "NM_617_1",
         "Health and provision of unpaid care",
         "KS301EW"
        ],
        [
         "17",
         "NM_625_1",
         "Hours worked",
         "KS604EW"
        ],
        [
         "19",
         "NM_605_1",
         "Household composition",
         "KS105EW"
        ],
        [
         "21",
         "NM_613_1",
         "Household language",
         "KS206EW"
        ],
        [
         "24",
         "NM_626_1",
         "Industry by sex",
         "KS605EW to KS607EW"
        ],
        [
         "26",
         "NM_604_1",
         "Living arrangements",
         "KS104EW"
        ],
        [
         "28",
         "NM_607_1",
         "Lone parent households with dependent children",
         "KS107EW"
        ],
        [
         "30",
         "NM_603_1",
         "Marital and civil partnership status",
         "KS103EW"
        ],
        [
         "32",
         "NM_609_1",
         "National identity",
         "KS202EW"
        ],
        [
         "35",
         "NM_628_1",
         "NS-SeC by sex",
         "KS611EW to KS613EW"
        ],
        [
         "39",
         "NM_627_1",
         "Occupation by sex",
         "KS608EW to KS610EW"
        ],
        [
         "41",
         "NM_612_1",
         "Passports held",
         "KS205EW"
        ],
        [
         "42",
         "NM_623_1",
         "Qualifications and students",
         "KS501EW"
        ],
        [
         "44",
         "NM_616_1",
         "Religion",
         "KS209EW"
        ],
        [
         "45",
         "NM_146_1",
         "Rooms, bedrooms and central heating",
         "KS403EW"
        ],
        [
         "46",
         "NM_619_1",
         "Tenure",
         "KS402EW"
        ],
        [
         "48",
         "NM_144_1",
         "Usual resident population",
         "KS101EW"
        ],
        [
         "51",
         "NM_534_1",
         "Accommodation type - Households",
         "QS402EW"
        ],
        [
         "53",
         "NM_533_1",
         "Accommodation type - People",
         "QS401EW"
        ],
        [
         "55",
         "NM_510_1",
         "Adult lifestage (alternative adult definition)",
         "QS110EW"
        ],
        [
         "57",
         "NM_503_1",
         "Age by single year",
         "QS103EW"
        ],
        [
         "59",
         "NM_570_1",
         "Age of arrival in the UK",
         "QS802EW"
        ],
        [
         "61",
         "NM_566_1",
         "Approximated Social Grade",
         "QS611EW"
        ],
        [
         "62",
         "NM_580_1",
         "Approximated social grade",
         "QS613EW"
        ],
        [
         "63",
         "NM_548_1",
         "Car or van availability",
         "QS416EW"
        ],
        [
         "64",
         "NM_547_1",
         "Central heating",
         "QS415EW"
        ],
        [
         "67",
         "NM_552_1",
         "Communal establishment management and type - Communal establishments",
         "QS420EW"
        ],
        [
         "68",
         "NM_553_1",
         "Communal establishment management and type - People",
         "QS421EW"
        ],
        [
         "70",
         "NM_524_1",
         "Country of birth (detailed)",
         "QS203EW"
        ],
        [
         "72",
         "NM_153_1",
         "Distance travelled to work",
         "QS702EW"
        ],
        [
         "73",
         "NM_550_1",
         "Dwellings",
         "QS418EW"
        ],
        [
         "75",
         "NM_558_1",
         "Economic activity - Full-time students",
         "QS603EW"
        ],
        [
         "77",
         "NM_557_1",
         "Economic activity of Household Reference Person",
         "QS602EW"
        ],
        [
         "78",
         "NM_556_1",
         "Economic activity",
         "QS601EW"
        ],
        [
         "80",
         "NM_575_1",
         "Ethnic group (detailed)",
         "QS211EW"
        ],
        [
         "82",
         "NM_522_1",
         "Ethnic group",
         "QS201EW"
        ],
        [
         "83",
         "NM_518_1",
         "Families with dependent children",
         "QS118EW"
        ],
        [
         "85",
         "NM_531_1",
         "General health",
         "QS302EW"
        ],
        [
         "87",
         "NM_554_1",
         "Highest level of qualification",
         "QS501EW"
        ],
        [
         "89",
         "NM_559_1",
         "Hours worked",
         "QS604EW"
        ],
        [
         "91",
         "NM_515_1",
         "Household composition (alternative child and adult definition) - Households",
         "QS115EW"
        ],
        [
         "92",
         "NM_514_1",
         "Household composition (alternative child and adult definition) - People",
         "QS114EW"
        ]
       ],
       "shape": {
        "columns": 3,
        "rows": 310
       }
      },
      "text/html": [
       "<div>\n",
       "<style scoped>\n",
       "    .dataframe tbody tr th:only-of-type {\n",
       "        vertical-align: middle;\n",
       "    }\n",
       "\n",
       "    .dataframe tbody tr th {\n",
       "        vertical-align: top;\n",
       "    }\n",
       "\n",
       "    .dataframe thead th {\n",
       "        text-align: right;\n",
       "    }\n",
       "</style>\n",
       "<table border=\"1\" class=\"dataframe\">\n",
       "  <thead>\n",
       "    <tr style=\"text-align: right;\">\n",
       "      <th></th>\n",
       "      <th>dataset_id</th>\n",
       "      <th>dataset_name</th>\n",
       "      <th>dataset_code</th>\n",
       "    </tr>\n",
       "  </thead>\n",
       "  <tbody>\n",
       "    <tr>\n",
       "      <th>0</th>\n",
       "      <td>NM_606_1</td>\n",
       "      <td>Adults not in employment and dependent childre...</td>\n",
       "      <td>KS106EW</td>\n",
       "    </tr>\n",
       "    <tr>\n",
       "      <th>1</th>\n",
       "      <td>NM_145_1</td>\n",
       "      <td>Age structure</td>\n",
       "      <td>KS102EW</td>\n",
       "    </tr>\n",
       "    <tr>\n",
       "      <th>2</th>\n",
       "      <td>NM_621_1</td>\n",
       "      <td>Car or van availability</td>\n",
       "      <td>KS404EW</td>\n",
       "    </tr>\n",
       "    <tr>\n",
       "      <th>4</th>\n",
       "      <td>NM_622_1</td>\n",
       "      <td>Communal establishment residents</td>\n",
       "      <td>KS405EW</td>\n",
       "    </tr>\n",
       "    <tr>\n",
       "      <th>6</th>\n",
       "      <td>NM_611_1</td>\n",
       "      <td>Country of birth</td>\n",
       "      <td>KS204EW</td>\n",
       "    </tr>\n",
       "    <tr>\n",
       "      <th>...</th>\n",
       "      <td>...</td>\n",
       "      <td>...</td>\n",
       "      <td>...</td>\n",
       "    </tr>\n",
       "    <tr>\n",
       "      <th>402</th>\n",
       "      <td>NM_1360_1</td>\n",
       "      <td>Passports held (detailed) (Out of term-time po...</td>\n",
       "      <td>OT212EW</td>\n",
       "    </tr>\n",
       "    <tr>\n",
       "      <th>403</th>\n",
       "      <td>NM_157_1</td>\n",
       "      <td>Population density (Out of term-time population)</td>\n",
       "      <td>OT102EW</td>\n",
       "    </tr>\n",
       "    <tr>\n",
       "      <th>404</th>\n",
       "      <td>NM_1361_1</td>\n",
       "      <td>Provision of unpaid care (Out of term-time pop...</td>\n",
       "      <td>OT301EW</td>\n",
       "    </tr>\n",
       "    <tr>\n",
       "      <th>405</th>\n",
       "      <td>NM_1359_1</td>\n",
       "      <td>Religion (Out of term-time population)</td>\n",
       "      <td>OT210EW</td>\n",
       "    </tr>\n",
       "    <tr>\n",
       "      <th>406</th>\n",
       "      <td>NM_1352_1</td>\n",
       "      <td>Sex by five-year age group (Out of term-time p...</td>\n",
       "      <td>OT1101EW</td>\n",
       "    </tr>\n",
       "  </tbody>\n",
       "</table>\n",
       "<p>310 rows × 3 columns</p>\n",
       "</div>"
      ],
      "text/plain": [
       "    dataset_id                                       dataset_name dataset_code\n",
       "0     NM_606_1  Adults not in employment and dependent childre...      KS106EW\n",
       "1     NM_145_1                                      Age structure      KS102EW\n",
       "2     NM_621_1                            Car or van availability      KS404EW\n",
       "4     NM_622_1                   Communal establishment residents      KS405EW\n",
       "6     NM_611_1                                   Country of birth      KS204EW\n",
       "..         ...                                                ...          ...\n",
       "402  NM_1360_1  Passports held (detailed) (Out of term-time po...      OT212EW\n",
       "403   NM_157_1   Population density (Out of term-time population)      OT102EW\n",
       "404  NM_1361_1  Provision of unpaid care (Out of term-time pop...      OT301EW\n",
       "405  NM_1359_1             Religion (Out of term-time population)      OT210EW\n",
       "406  NM_1352_1  Sex by five-year age group (Out of term-time p...     OT1101EW\n",
       "\n",
       "[310 rows x 3 columns]"
      ]
     },
     "execution_count": 5,
     "metadata": {},
     "output_type": "execute_result"
    }
   ],
   "source": [
    "availableDatasets_2011"
   ]
  },
  {
   "cell_type": "markdown",
   "id": "9554e1a1",
   "metadata": {},
   "source": [
    "Find dataset with names that fuzzy matches to covariates of interest."
   ]
  },
  {
   "cell_type": "code",
   "execution_count": 6,
   "id": "3839bab2",
   "metadata": {},
   "outputs": [
    {
     "data": {
      "application/vnd.microsoft.datawrangler.viewer.v0+json": {
       "columns": [
        {
         "name": "index",
         "rawType": "int64",
         "type": "integer"
        },
        {
         "name": "dataset_id",
         "rawType": "object",
         "type": "string"
        },
        {
         "name": "dataset_name",
         "rawType": "object",
         "type": "string"
        },
        {
         "name": "dataset_code",
         "rawType": "object",
         "type": "string"
        },
        {
         "name": "matched_interest",
         "rawType": "object",
         "type": "string"
        }
       ],
       "ref": "cff7bec2-8fd1-4f17-ba59-e5eb07a7221b",
       "rows": [
        [
         "6",
         "NM_611_1",
         "Country of birth",
         "KS204EW",
         "Country of birth"
        ],
        [
         "15",
         "NM_617_1",
         "Health and provision of unpaid care",
         "KS301EW",
         "Health"
        ],
        [
         "17",
         "NM_625_1",
         "Hours worked",
         "KS604EW",
         "Hours worked"
        ],
        [
         "35",
         "NM_628_1",
         "NS-SeC by sex",
         "KS611EW to KS613EW",
         "NS-SeC"
        ],
        [
         "70",
         "NM_524_1",
         "Country of birth (detailed)",
         "QS203EW",
         "Country of birth"
        ],
        [
         "72",
         "NM_153_1",
         "Distance travelled to work",
         "QS702EW",
         "Distance travelled to work"
        ],
        [
         "89",
         "NM_559_1",
         "Hours worked",
         "QS604EW",
         "Hours worked"
        ],
        [
         "118",
         "NM_565_1",
         "NS-SeC of Household Reference Person (HRP) - HRP Aged under 65",
         "QS610EW",
         "NS-SeC"
        ],
        [
         "122",
         "NM_563_1",
         "NS-SeC of Household Reference Person - People aged under 65",
         "QS608EW",
         "NS-SeC"
        ],
        [
         "123",
         "NM_564_1",
         "NS-SeC of Household Reference Person - People",
         "QS609EW",
         "NS-SeC"
        ],
        [
         "124",
         "NM_562_1",
         "NS-SeC",
         "QS607EW",
         "NS-SeC"
        ],
        [
         "189",
         "NM_839_1",
         "Country of birth by age of arrival in the UK",
         "LC2802EW",
         "Country of birth"
        ],
        [
         "190",
         "NM_811_1",
         "Country of birth by ethnic group",
         "LC2205EW",
         "Country of birth"
        ],
        [
         "191",
         "NM_1411_1",
         "Country of birth by number of children in family",
         "LC2122EW",
         "Country of birth"
        ],
        [
         "192",
         "NM_813_1",
         "Country of birth by religion by sex",
         "LC2207EW",
         "Country of birth"
        ],
        [
         "193",
         "NM_836_1",
         "Country of birth by sex by age",
         "LC2103EW",
         "Country of birth"
        ],
        [
         "194",
         "NM_840_1",
         "Country of birth by year of arrival in the UK",
         "LC2804EW",
         "Country of birth"
        ],
        [
         "197",
         "NM_1068_1",
         "Distance travelled to work by age",
         "LC7102EW",
         "Distance travelled to work"
        ],
        [
         "198",
         "NM_1072_1",
         "Distance travelled to work by car or van availability",
         "LC7402EW",
         "Distance travelled to work"
        ],
        [
         "199",
         "NM_1070_1",
         "Distance travelled to work by ethnic group",
         "LC7202EW",
         "Distance travelled to work"
        ],
        [
         "200",
         "NM_1074_1",
         "Distance travelled to work by highest level of qualification",
         "LC7502EW",
         "Distance travelled to work"
        ],
        [
         "201",
         "NM_1079_1",
         "Distance travelled to work by hours worked",
         "LC7605EW",
         "Distance travelled to work"
        ],
        [
         "202",
         "NM_1080_1",
         "Distance travelled to work by industry",
         "LC7606EW",
         "Distance travelled to work"
        ],
        [
         "203",
         "NM_1082_1",
         "Distance travelled to work by NS-SeC",
         "LC7608EW",
         "NS-SeC"
        ],
        [
         "204",
         "NM_1081_1",
         "Distance travelled to work by occupation",
         "LC7607EW",
         "Distance travelled to work"
        ],
        [
         "205",
         "NM_1085_1",
         "Distance travelled to work by sex",
         "LC7104EW",
         "Distance travelled to work"
        ],
        [
         "237",
         "NM_831_1",
         "General health by NS-SeC",
         "LC3601EW",
         "NS-SeC"
        ],
        [
         "255",
         "NM_1053_1",
         "Hours worked by age",
         "LC6117EW",
         "Hours worked"
        ],
        [
         "256",
         "NM_1011_1",
         "Hours worked by sex",
         "LC6109EW",
         "Hours worked"
        ],
        [
         "276",
         "NM_832_1",
         "Long-term health problem or disability by NS-SeC by age",
         "LC3602EW",
         "NS-SeC"
        ],
        [
         "291",
         "NM_1078_1",
         "Method of travel to work (2001 specification) by NS-SeC",
         "LC7604EW",
         "NS-SeC"
        ],
        [
         "298",
         "NM_1051_1",
         "NS-SeC by age",
         "LC6114EW",
         "NS-SeC"
        ],
        [
         "299",
         "NM_1032_1",
         "NS-SeC by economic activity",
         "LC6606EW",
         "NS-SeC"
        ],
        [
         "300",
         "NM_820_1",
         "NS-SeC by ethnic group by age",
         "LC6206EW",
         "NS-SeC"
        ],
        [
         "301",
         "NM_821_1",
         "NS-SeC by religion",
         "LC6207EW",
         "NS-SeC"
        ],
        [
         "302",
         "NM_1002_1",
         "NS-SeC by sex by age - Household Reference Persons",
         "LC6101EW",
         "NS-SeC"
        ],
        [
         "303",
         "NM_1055_1",
         "NS-SeC by sex",
         "LC6121EW",
         "NS-SeC"
        ],
        [
         "304",
         "NM_1017_1",
         "NS-SeC of Household Reference Person by household composition",
         "LC6115EW",
         "NS-SeC"
        ],
        [
         "360",
         "NM_1001_1",
         "Tenure by NS-SeC - Household Reference Persons",
         "LC4605EW",
         "NS-SeC"
        ],
        [
         "373",
         "NM_933_1",
         "Country of birth",
         "WD203EW",
         "Country of birth"
        ],
        [
         "379",
         "NM_946_1",
         "NS-SeC (Workday population)",
         "WD607EW",
         "NS-SeC"
        ],
        [
         "387",
         "NM_1355_1",
         "Country of birth (detailed) (Out of term-time population)",
         "OT203EW",
         "Country of birth"
        ],
        [
         "393",
         "NM_1366_1",
         "Hours worked (Out of term-time population)",
         "OT604EW",
         "Hours worked"
        ],
        [
         "400",
         "NM_1369_1",
         "NS-SeC (Out of term-time population)",
         "OT607EW",
         "NS-SeC"
        ]
       ],
       "shape": {
        "columns": 4,
        "rows": 44
       }
      },
      "text/html": [
       "<div>\n",
       "<style scoped>\n",
       "    .dataframe tbody tr th:only-of-type {\n",
       "        vertical-align: middle;\n",
       "    }\n",
       "\n",
       "    .dataframe tbody tr th {\n",
       "        vertical-align: top;\n",
       "    }\n",
       "\n",
       "    .dataframe thead th {\n",
       "        text-align: right;\n",
       "    }\n",
       "</style>\n",
       "<table border=\"1\" class=\"dataframe\">\n",
       "  <thead>\n",
       "    <tr style=\"text-align: right;\">\n",
       "      <th></th>\n",
       "      <th>dataset_id</th>\n",
       "      <th>dataset_name</th>\n",
       "      <th>dataset_code</th>\n",
       "      <th>matched_interest</th>\n",
       "    </tr>\n",
       "  </thead>\n",
       "  <tbody>\n",
       "    <tr>\n",
       "      <th>6</th>\n",
       "      <td>NM_611_1</td>\n",
       "      <td>Country of birth</td>\n",
       "      <td>KS204EW</td>\n",
       "      <td>Country of birth</td>\n",
       "    </tr>\n",
       "    <tr>\n",
       "      <th>15</th>\n",
       "      <td>NM_617_1</td>\n",
       "      <td>Health and provision of unpaid care</td>\n",
       "      <td>KS301EW</td>\n",
       "      <td>Health</td>\n",
       "    </tr>\n",
       "    <tr>\n",
       "      <th>17</th>\n",
       "      <td>NM_625_1</td>\n",
       "      <td>Hours worked</td>\n",
       "      <td>KS604EW</td>\n",
       "      <td>Hours worked</td>\n",
       "    </tr>\n",
       "    <tr>\n",
       "      <th>35</th>\n",
       "      <td>NM_628_1</td>\n",
       "      <td>NS-SeC by sex</td>\n",
       "      <td>KS611EW to KS613EW</td>\n",
       "      <td>NS-SeC</td>\n",
       "    </tr>\n",
       "    <tr>\n",
       "      <th>70</th>\n",
       "      <td>NM_524_1</td>\n",
       "      <td>Country of birth (detailed)</td>\n",
       "      <td>QS203EW</td>\n",
       "      <td>Country of birth</td>\n",
       "    </tr>\n",
       "    <tr>\n",
       "      <th>72</th>\n",
       "      <td>NM_153_1</td>\n",
       "      <td>Distance travelled to work</td>\n",
       "      <td>QS702EW</td>\n",
       "      <td>Distance travelled to work</td>\n",
       "    </tr>\n",
       "    <tr>\n",
       "      <th>89</th>\n",
       "      <td>NM_559_1</td>\n",
       "      <td>Hours worked</td>\n",
       "      <td>QS604EW</td>\n",
       "      <td>Hours worked</td>\n",
       "    </tr>\n",
       "    <tr>\n",
       "      <th>118</th>\n",
       "      <td>NM_565_1</td>\n",
       "      <td>NS-SeC of Household Reference Person (HRP) - H...</td>\n",
       "      <td>QS610EW</td>\n",
       "      <td>NS-SeC</td>\n",
       "    </tr>\n",
       "    <tr>\n",
       "      <th>122</th>\n",
       "      <td>NM_563_1</td>\n",
       "      <td>NS-SeC of Household Reference Person - People ...</td>\n",
       "      <td>QS608EW</td>\n",
       "      <td>NS-SeC</td>\n",
       "    </tr>\n",
       "    <tr>\n",
       "      <th>123</th>\n",
       "      <td>NM_564_1</td>\n",
       "      <td>NS-SeC of Household Reference Person - People</td>\n",
       "      <td>QS609EW</td>\n",
       "      <td>NS-SeC</td>\n",
       "    </tr>\n",
       "    <tr>\n",
       "      <th>124</th>\n",
       "      <td>NM_562_1</td>\n",
       "      <td>NS-SeC</td>\n",
       "      <td>QS607EW</td>\n",
       "      <td>NS-SeC</td>\n",
       "    </tr>\n",
       "    <tr>\n",
       "      <th>189</th>\n",
       "      <td>NM_839_1</td>\n",
       "      <td>Country of birth by age of arrival in the UK</td>\n",
       "      <td>LC2802EW</td>\n",
       "      <td>Country of birth</td>\n",
       "    </tr>\n",
       "    <tr>\n",
       "      <th>190</th>\n",
       "      <td>NM_811_1</td>\n",
       "      <td>Country of birth by ethnic group</td>\n",
       "      <td>LC2205EW</td>\n",
       "      <td>Country of birth</td>\n",
       "    </tr>\n",
       "    <tr>\n",
       "      <th>191</th>\n",
       "      <td>NM_1411_1</td>\n",
       "      <td>Country of birth by number of children in family</td>\n",
       "      <td>LC2122EW</td>\n",
       "      <td>Country of birth</td>\n",
       "    </tr>\n",
       "    <tr>\n",
       "      <th>192</th>\n",
       "      <td>NM_813_1</td>\n",
       "      <td>Country of birth by religion by sex</td>\n",
       "      <td>LC2207EW</td>\n",
       "      <td>Country of birth</td>\n",
       "    </tr>\n",
       "    <tr>\n",
       "      <th>193</th>\n",
       "      <td>NM_836_1</td>\n",
       "      <td>Country of birth by sex by age</td>\n",
       "      <td>LC2103EW</td>\n",
       "      <td>Country of birth</td>\n",
       "    </tr>\n",
       "    <tr>\n",
       "      <th>194</th>\n",
       "      <td>NM_840_1</td>\n",
       "      <td>Country of birth by year of arrival in the UK</td>\n",
       "      <td>LC2804EW</td>\n",
       "      <td>Country of birth</td>\n",
       "    </tr>\n",
       "    <tr>\n",
       "      <th>197</th>\n",
       "      <td>NM_1068_1</td>\n",
       "      <td>Distance travelled to work by age</td>\n",
       "      <td>LC7102EW</td>\n",
       "      <td>Distance travelled to work</td>\n",
       "    </tr>\n",
       "    <tr>\n",
       "      <th>198</th>\n",
       "      <td>NM_1072_1</td>\n",
       "      <td>Distance travelled to work by car or van avail...</td>\n",
       "      <td>LC7402EW</td>\n",
       "      <td>Distance travelled to work</td>\n",
       "    </tr>\n",
       "    <tr>\n",
       "      <th>199</th>\n",
       "      <td>NM_1070_1</td>\n",
       "      <td>Distance travelled to work by ethnic group</td>\n",
       "      <td>LC7202EW</td>\n",
       "      <td>Distance travelled to work</td>\n",
       "    </tr>\n",
       "    <tr>\n",
       "      <th>200</th>\n",
       "      <td>NM_1074_1</td>\n",
       "      <td>Distance travelled to work by highest level of...</td>\n",
       "      <td>LC7502EW</td>\n",
       "      <td>Distance travelled to work</td>\n",
       "    </tr>\n",
       "    <tr>\n",
       "      <th>201</th>\n",
       "      <td>NM_1079_1</td>\n",
       "      <td>Distance travelled to work by hours worked</td>\n",
       "      <td>LC7605EW</td>\n",
       "      <td>Distance travelled to work</td>\n",
       "    </tr>\n",
       "    <tr>\n",
       "      <th>202</th>\n",
       "      <td>NM_1080_1</td>\n",
       "      <td>Distance travelled to work by industry</td>\n",
       "      <td>LC7606EW</td>\n",
       "      <td>Distance travelled to work</td>\n",
       "    </tr>\n",
       "    <tr>\n",
       "      <th>203</th>\n",
       "      <td>NM_1082_1</td>\n",
       "      <td>Distance travelled to work by NS-SeC</td>\n",
       "      <td>LC7608EW</td>\n",
       "      <td>NS-SeC</td>\n",
       "    </tr>\n",
       "    <tr>\n",
       "      <th>204</th>\n",
       "      <td>NM_1081_1</td>\n",
       "      <td>Distance travelled to work by occupation</td>\n",
       "      <td>LC7607EW</td>\n",
       "      <td>Distance travelled to work</td>\n",
       "    </tr>\n",
       "    <tr>\n",
       "      <th>205</th>\n",
       "      <td>NM_1085_1</td>\n",
       "      <td>Distance travelled to work by sex</td>\n",
       "      <td>LC7104EW</td>\n",
       "      <td>Distance travelled to work</td>\n",
       "    </tr>\n",
       "    <tr>\n",
       "      <th>237</th>\n",
       "      <td>NM_831_1</td>\n",
       "      <td>General health by NS-SeC</td>\n",
       "      <td>LC3601EW</td>\n",
       "      <td>NS-SeC</td>\n",
       "    </tr>\n",
       "    <tr>\n",
       "      <th>255</th>\n",
       "      <td>NM_1053_1</td>\n",
       "      <td>Hours worked by age</td>\n",
       "      <td>LC6117EW</td>\n",
       "      <td>Hours worked</td>\n",
       "    </tr>\n",
       "    <tr>\n",
       "      <th>256</th>\n",
       "      <td>NM_1011_1</td>\n",
       "      <td>Hours worked by sex</td>\n",
       "      <td>LC6109EW</td>\n",
       "      <td>Hours worked</td>\n",
       "    </tr>\n",
       "    <tr>\n",
       "      <th>276</th>\n",
       "      <td>NM_832_1</td>\n",
       "      <td>Long-term health problem or disability by NS-S...</td>\n",
       "      <td>LC3602EW</td>\n",
       "      <td>NS-SeC</td>\n",
       "    </tr>\n",
       "    <tr>\n",
       "      <th>291</th>\n",
       "      <td>NM_1078_1</td>\n",
       "      <td>Method of travel to work (2001 specification) ...</td>\n",
       "      <td>LC7604EW</td>\n",
       "      <td>NS-SeC</td>\n",
       "    </tr>\n",
       "    <tr>\n",
       "      <th>298</th>\n",
       "      <td>NM_1051_1</td>\n",
       "      <td>NS-SeC by age</td>\n",
       "      <td>LC6114EW</td>\n",
       "      <td>NS-SeC</td>\n",
       "    </tr>\n",
       "    <tr>\n",
       "      <th>299</th>\n",
       "      <td>NM_1032_1</td>\n",
       "      <td>NS-SeC by economic activity</td>\n",
       "      <td>LC6606EW</td>\n",
       "      <td>NS-SeC</td>\n",
       "    </tr>\n",
       "    <tr>\n",
       "      <th>300</th>\n",
       "      <td>NM_820_1</td>\n",
       "      <td>NS-SeC by ethnic group by age</td>\n",
       "      <td>LC6206EW</td>\n",
       "      <td>NS-SeC</td>\n",
       "    </tr>\n",
       "    <tr>\n",
       "      <th>301</th>\n",
       "      <td>NM_821_1</td>\n",
       "      <td>NS-SeC by religion</td>\n",
       "      <td>LC6207EW</td>\n",
       "      <td>NS-SeC</td>\n",
       "    </tr>\n",
       "    <tr>\n",
       "      <th>302</th>\n",
       "      <td>NM_1002_1</td>\n",
       "      <td>NS-SeC by sex by age - Household Reference Per...</td>\n",
       "      <td>LC6101EW</td>\n",
       "      <td>NS-SeC</td>\n",
       "    </tr>\n",
       "    <tr>\n",
       "      <th>303</th>\n",
       "      <td>NM_1055_1</td>\n",
       "      <td>NS-SeC by sex</td>\n",
       "      <td>LC6121EW</td>\n",
       "      <td>NS-SeC</td>\n",
       "    </tr>\n",
       "    <tr>\n",
       "      <th>304</th>\n",
       "      <td>NM_1017_1</td>\n",
       "      <td>NS-SeC of Household Reference Person by househ...</td>\n",
       "      <td>LC6115EW</td>\n",
       "      <td>NS-SeC</td>\n",
       "    </tr>\n",
       "    <tr>\n",
       "      <th>360</th>\n",
       "      <td>NM_1001_1</td>\n",
       "      <td>Tenure by NS-SeC - Household Reference Persons</td>\n",
       "      <td>LC4605EW</td>\n",
       "      <td>NS-SeC</td>\n",
       "    </tr>\n",
       "    <tr>\n",
       "      <th>373</th>\n",
       "      <td>NM_933_1</td>\n",
       "      <td>Country of birth</td>\n",
       "      <td>WD203EW</td>\n",
       "      <td>Country of birth</td>\n",
       "    </tr>\n",
       "    <tr>\n",
       "      <th>379</th>\n",
       "      <td>NM_946_1</td>\n",
       "      <td>NS-SeC (Workday population)</td>\n",
       "      <td>WD607EW</td>\n",
       "      <td>NS-SeC</td>\n",
       "    </tr>\n",
       "    <tr>\n",
       "      <th>387</th>\n",
       "      <td>NM_1355_1</td>\n",
       "      <td>Country of birth (detailed) (Out of term-time ...</td>\n",
       "      <td>OT203EW</td>\n",
       "      <td>Country of birth</td>\n",
       "    </tr>\n",
       "    <tr>\n",
       "      <th>393</th>\n",
       "      <td>NM_1366_1</td>\n",
       "      <td>Hours worked (Out of term-time population)</td>\n",
       "      <td>OT604EW</td>\n",
       "      <td>Hours worked</td>\n",
       "    </tr>\n",
       "    <tr>\n",
       "      <th>400</th>\n",
       "      <td>NM_1369_1</td>\n",
       "      <td>NS-SeC (Out of term-time population)</td>\n",
       "      <td>OT607EW</td>\n",
       "      <td>NS-SeC</td>\n",
       "    </tr>\n",
       "  </tbody>\n",
       "</table>\n",
       "</div>"
      ],
      "text/plain": [
       "    dataset_id                                       dataset_name  \\\n",
       "6     NM_611_1                                   Country of birth   \n",
       "15    NM_617_1                Health and provision of unpaid care   \n",
       "17    NM_625_1                                       Hours worked   \n",
       "35    NM_628_1                                      NS-SeC by sex   \n",
       "70    NM_524_1                        Country of birth (detailed)   \n",
       "72    NM_153_1                         Distance travelled to work   \n",
       "89    NM_559_1                                       Hours worked   \n",
       "118   NM_565_1  NS-SeC of Household Reference Person (HRP) - H...   \n",
       "122   NM_563_1  NS-SeC of Household Reference Person - People ...   \n",
       "123   NM_564_1      NS-SeC of Household Reference Person - People   \n",
       "124   NM_562_1                                             NS-SeC   \n",
       "189   NM_839_1       Country of birth by age of arrival in the UK   \n",
       "190   NM_811_1                   Country of birth by ethnic group   \n",
       "191  NM_1411_1   Country of birth by number of children in family   \n",
       "192   NM_813_1                Country of birth by religion by sex   \n",
       "193   NM_836_1                     Country of birth by sex by age   \n",
       "194   NM_840_1      Country of birth by year of arrival in the UK   \n",
       "197  NM_1068_1                  Distance travelled to work by age   \n",
       "198  NM_1072_1  Distance travelled to work by car or van avail...   \n",
       "199  NM_1070_1         Distance travelled to work by ethnic group   \n",
       "200  NM_1074_1  Distance travelled to work by highest level of...   \n",
       "201  NM_1079_1         Distance travelled to work by hours worked   \n",
       "202  NM_1080_1             Distance travelled to work by industry   \n",
       "203  NM_1082_1               Distance travelled to work by NS-SeC   \n",
       "204  NM_1081_1           Distance travelled to work by occupation   \n",
       "205  NM_1085_1                  Distance travelled to work by sex   \n",
       "237   NM_831_1                           General health by NS-SeC   \n",
       "255  NM_1053_1                                Hours worked by age   \n",
       "256  NM_1011_1                                Hours worked by sex   \n",
       "276   NM_832_1  Long-term health problem or disability by NS-S...   \n",
       "291  NM_1078_1  Method of travel to work (2001 specification) ...   \n",
       "298  NM_1051_1                                      NS-SeC by age   \n",
       "299  NM_1032_1                        NS-SeC by economic activity   \n",
       "300   NM_820_1                      NS-SeC by ethnic group by age   \n",
       "301   NM_821_1                                 NS-SeC by religion   \n",
       "302  NM_1002_1  NS-SeC by sex by age - Household Reference Per...   \n",
       "303  NM_1055_1                                      NS-SeC by sex   \n",
       "304  NM_1017_1  NS-SeC of Household Reference Person by househ...   \n",
       "360  NM_1001_1     Tenure by NS-SeC - Household Reference Persons   \n",
       "373   NM_933_1                                   Country of birth   \n",
       "379   NM_946_1                        NS-SeC (Workday population)   \n",
       "387  NM_1355_1  Country of birth (detailed) (Out of term-time ...   \n",
       "393  NM_1366_1         Hours worked (Out of term-time population)   \n",
       "400  NM_1369_1               NS-SeC (Out of term-time population)   \n",
       "\n",
       "           dataset_code            matched_interest  \n",
       "6               KS204EW            Country of birth  \n",
       "15              KS301EW                      Health  \n",
       "17              KS604EW                Hours worked  \n",
       "35   KS611EW to KS613EW                      NS-SeC  \n",
       "70              QS203EW            Country of birth  \n",
       "72              QS702EW  Distance travelled to work  \n",
       "89              QS604EW                Hours worked  \n",
       "118             QS610EW                      NS-SeC  \n",
       "122             QS608EW                      NS-SeC  \n",
       "123             QS609EW                      NS-SeC  \n",
       "124             QS607EW                      NS-SeC  \n",
       "189            LC2802EW            Country of birth  \n",
       "190            LC2205EW            Country of birth  \n",
       "191            LC2122EW            Country of birth  \n",
       "192            LC2207EW            Country of birth  \n",
       "193            LC2103EW            Country of birth  \n",
       "194            LC2804EW            Country of birth  \n",
       "197            LC7102EW  Distance travelled to work  \n",
       "198            LC7402EW  Distance travelled to work  \n",
       "199            LC7202EW  Distance travelled to work  \n",
       "200            LC7502EW  Distance travelled to work  \n",
       "201            LC7605EW  Distance travelled to work  \n",
       "202            LC7606EW  Distance travelled to work  \n",
       "203            LC7608EW                      NS-SeC  \n",
       "204            LC7607EW  Distance travelled to work  \n",
       "205            LC7104EW  Distance travelled to work  \n",
       "237            LC3601EW                      NS-SeC  \n",
       "255            LC6117EW                Hours worked  \n",
       "256            LC6109EW                Hours worked  \n",
       "276            LC3602EW                      NS-SeC  \n",
       "291            LC7604EW                      NS-SeC  \n",
       "298            LC6114EW                      NS-SeC  \n",
       "299            LC6606EW                      NS-SeC  \n",
       "300            LC6206EW                      NS-SeC  \n",
       "301            LC6207EW                      NS-SeC  \n",
       "302            LC6101EW                      NS-SeC  \n",
       "303            LC6121EW                      NS-SeC  \n",
       "304            LC6115EW                      NS-SeC  \n",
       "360            LC4605EW                      NS-SeC  \n",
       "373             WD203EW            Country of birth  \n",
       "379             WD607EW                      NS-SeC  \n",
       "387             OT203EW            Country of birth  \n",
       "393             OT604EW                Hours worked  \n",
       "400             OT607EW                      NS-SeC  "
      ]
     },
     "execution_count": 6,
     "metadata": {},
     "output_type": "execute_result"
    }
   ],
   "source": [
    "# Example covariates of interest\n",
    "interests = ['Hours worked', 'NS-SeC', 'Country of birth', \n",
    "            'Health', 'Disability', 'Distance travelled to work', 'Migrant']\n",
    "\n",
    "datasets_2011 = browseDatasets(interests, availableDatasets_2011)\n",
    "datasets_2011"
   ]
  },
  {
   "cell_type": "code",
   "execution_count": 7,
   "id": "6640c565",
   "metadata": {},
   "outputs": [
    {
     "data": {
      "application/vnd.microsoft.datawrangler.viewer.v0+json": {
       "columns": [
        {
         "name": "index",
         "rawType": "int64",
         "type": "integer"
        },
        {
         "name": "dataset_id",
         "rawType": "object",
         "type": "string"
        },
        {
         "name": "dataset_name",
         "rawType": "object",
         "type": "string"
        },
        {
         "name": "dataset_code",
         "rawType": "object",
         "type": "string"
        },
        {
         "name": "matched_interest",
         "rawType": "object",
         "type": "string"
        }
       ],
       "ref": "00287b12-6c75-403b-a4f0-cd22c618d76d",
       "rows": [
        [
         "22",
         "NM_2111_1",
         "Country of birth by age",
         "RM011",
         "Country of birth"
        ],
        [
         "23",
         "NM_2024_1",
         "Country of birth",
         "TS004",
         "Country of birth"
        ],
        [
         "25",
         "NM_2257_1",
         "Disability by ability to speak Welsh by age",
         "RM157",
         "Disability"
        ],
        [
         "26",
         "NM_2170_1",
         "Disability by NS-SEC by age",
         "RM070",
         "Disability"
        ],
        [
         "27",
         "NM_2172_1",
         "Disability by religion by sex",
         "RM072",
         "Disability"
        ],
        [
         "28",
         "NM_2056_1",
         "Disability",
         "TS038",
         "Disability"
        ],
        [
         "29",
         "NM_2114_1",
         "Distance travelled to work by age",
         "RM014",
         "Distance travelled to work"
        ],
        [
         "30",
         "NM_2116_1",
         "Distance travelled to work by occupation",
         "RM016",
         "Distance travelled to work"
        ],
        [
         "31",
         "NM_2075_1",
         "Distance travelled to work",
         "TS058",
         "Distance travelled to work"
        ],
        [
         "64",
         "NM_2156_1",
         "Hours worked by sex by age",
         "RM056",
         "Hours worked"
        ],
        [
         "65",
         "NM_2076_1",
         "Hours worked",
         "TS059",
         "Hours worked"
        ],
        [
         "88",
         "NM_2039_1",
         "Migrant Indicator",
         "TS019",
         "Migrant"
        ],
        [
         "108",
         "NM_2079_1",
         "NS-SeC",
         "TS062",
         "NS-SeC"
        ]
       ],
       "shape": {
        "columns": 4,
        "rows": 13
       }
      },
      "text/html": [
       "<div>\n",
       "<style scoped>\n",
       "    .dataframe tbody tr th:only-of-type {\n",
       "        vertical-align: middle;\n",
       "    }\n",
       "\n",
       "    .dataframe tbody tr th {\n",
       "        vertical-align: top;\n",
       "    }\n",
       "\n",
       "    .dataframe thead th {\n",
       "        text-align: right;\n",
       "    }\n",
       "</style>\n",
       "<table border=\"1\" class=\"dataframe\">\n",
       "  <thead>\n",
       "    <tr style=\"text-align: right;\">\n",
       "      <th></th>\n",
       "      <th>dataset_id</th>\n",
       "      <th>dataset_name</th>\n",
       "      <th>dataset_code</th>\n",
       "      <th>matched_interest</th>\n",
       "    </tr>\n",
       "  </thead>\n",
       "  <tbody>\n",
       "    <tr>\n",
       "      <th>22</th>\n",
       "      <td>NM_2111_1</td>\n",
       "      <td>Country of birth by age</td>\n",
       "      <td>RM011</td>\n",
       "      <td>Country of birth</td>\n",
       "    </tr>\n",
       "    <tr>\n",
       "      <th>23</th>\n",
       "      <td>NM_2024_1</td>\n",
       "      <td>Country of birth</td>\n",
       "      <td>TS004</td>\n",
       "      <td>Country of birth</td>\n",
       "    </tr>\n",
       "    <tr>\n",
       "      <th>25</th>\n",
       "      <td>NM_2257_1</td>\n",
       "      <td>Disability by ability to speak Welsh by age</td>\n",
       "      <td>RM157</td>\n",
       "      <td>Disability</td>\n",
       "    </tr>\n",
       "    <tr>\n",
       "      <th>26</th>\n",
       "      <td>NM_2170_1</td>\n",
       "      <td>Disability by NS-SEC by age</td>\n",
       "      <td>RM070</td>\n",
       "      <td>Disability</td>\n",
       "    </tr>\n",
       "    <tr>\n",
       "      <th>27</th>\n",
       "      <td>NM_2172_1</td>\n",
       "      <td>Disability by religion by sex</td>\n",
       "      <td>RM072</td>\n",
       "      <td>Disability</td>\n",
       "    </tr>\n",
       "    <tr>\n",
       "      <th>28</th>\n",
       "      <td>NM_2056_1</td>\n",
       "      <td>Disability</td>\n",
       "      <td>TS038</td>\n",
       "      <td>Disability</td>\n",
       "    </tr>\n",
       "    <tr>\n",
       "      <th>29</th>\n",
       "      <td>NM_2114_1</td>\n",
       "      <td>Distance travelled to work by age</td>\n",
       "      <td>RM014</td>\n",
       "      <td>Distance travelled to work</td>\n",
       "    </tr>\n",
       "    <tr>\n",
       "      <th>30</th>\n",
       "      <td>NM_2116_1</td>\n",
       "      <td>Distance travelled to work by occupation</td>\n",
       "      <td>RM016</td>\n",
       "      <td>Distance travelled to work</td>\n",
       "    </tr>\n",
       "    <tr>\n",
       "      <th>31</th>\n",
       "      <td>NM_2075_1</td>\n",
       "      <td>Distance travelled to work</td>\n",
       "      <td>TS058</td>\n",
       "      <td>Distance travelled to work</td>\n",
       "    </tr>\n",
       "    <tr>\n",
       "      <th>64</th>\n",
       "      <td>NM_2156_1</td>\n",
       "      <td>Hours worked by sex by age</td>\n",
       "      <td>RM056</td>\n",
       "      <td>Hours worked</td>\n",
       "    </tr>\n",
       "    <tr>\n",
       "      <th>65</th>\n",
       "      <td>NM_2076_1</td>\n",
       "      <td>Hours worked</td>\n",
       "      <td>TS059</td>\n",
       "      <td>Hours worked</td>\n",
       "    </tr>\n",
       "    <tr>\n",
       "      <th>88</th>\n",
       "      <td>NM_2039_1</td>\n",
       "      <td>Migrant Indicator</td>\n",
       "      <td>TS019</td>\n",
       "      <td>Migrant</td>\n",
       "    </tr>\n",
       "    <tr>\n",
       "      <th>108</th>\n",
       "      <td>NM_2079_1</td>\n",
       "      <td>NS-SeC</td>\n",
       "      <td>TS062</td>\n",
       "      <td>NS-SeC</td>\n",
       "    </tr>\n",
       "  </tbody>\n",
       "</table>\n",
       "</div>"
      ],
      "text/plain": [
       "    dataset_id                                 dataset_name dataset_code  \\\n",
       "22   NM_2111_1                      Country of birth by age        RM011   \n",
       "23   NM_2024_1                             Country of birth        TS004   \n",
       "25   NM_2257_1  Disability by ability to speak Welsh by age        RM157   \n",
       "26   NM_2170_1                  Disability by NS-SEC by age        RM070   \n",
       "27   NM_2172_1                Disability by religion by sex        RM072   \n",
       "28   NM_2056_1                                   Disability        TS038   \n",
       "29   NM_2114_1            Distance travelled to work by age        RM014   \n",
       "30   NM_2116_1     Distance travelled to work by occupation        RM016   \n",
       "31   NM_2075_1                   Distance travelled to work        TS058   \n",
       "64   NM_2156_1                   Hours worked by sex by age        RM056   \n",
       "65   NM_2076_1                                 Hours worked        TS059   \n",
       "88   NM_2039_1                            Migrant Indicator        TS019   \n",
       "108  NM_2079_1                                       NS-SeC        TS062   \n",
       "\n",
       "               matched_interest  \n",
       "22             Country of birth  \n",
       "23             Country of birth  \n",
       "25                   Disability  \n",
       "26                   Disability  \n",
       "27                   Disability  \n",
       "28                   Disability  \n",
       "29   Distance travelled to work  \n",
       "30   Distance travelled to work  \n",
       "31   Distance travelled to work  \n",
       "64                 Hours worked  \n",
       "65                 Hours worked  \n",
       "88                      Migrant  \n",
       "108                      NS-SeC  "
      ]
     },
     "execution_count": 7,
     "metadata": {},
     "output_type": "execute_result"
    }
   ],
   "source": [
    "availableDatasets_2021 = browseDatasets(interests, availableDatasets_2021)\n",
    "availableDatasets_2021"
   ]
  },
  {
   "cell_type": "markdown",
   "id": "de91c3a7",
   "metadata": {},
   "source": [
    "#### Manually select datasets and populate this list using their codes."
   ]
  },
  {
   "cell_type": "code",
   "execution_count": 8,
   "id": "ccf05253",
   "metadata": {},
   "outputs": [
    {
     "data": {
      "application/vnd.microsoft.datawrangler.viewer.v0+json": {
       "columns": [
        {
         "name": "index",
         "rawType": "int64",
         "type": "integer"
        },
        {
         "name": "dataset_id",
         "rawType": "object",
         "type": "string"
        },
        {
         "name": "dataset_name",
         "rawType": "object",
         "type": "string"
        },
        {
         "name": "dataset_code",
         "rawType": "object",
         "type": "string"
        },
        {
         "name": "matched_interest",
         "rawType": "object",
         "type": "string"
        }
       ],
       "ref": "b37d45cf-2314-4884-832e-6609e958ba0f",
       "rows": [
        [
         "6",
         "NM_611_1",
         "Country of birth",
         "KS204EW",
         "Country of birth"
        ],
        [
         "15",
         "NM_617_1",
         "Health and provision of unpaid care",
         "KS301EW",
         "Health"
        ],
        [
         "17",
         "NM_625_1",
         "Hours worked",
         "KS604EW",
         "Hours worked"
        ],
        [
         "72",
         "NM_153_1",
         "Distance travelled to work",
         "QS702EW",
         "Distance travelled to work"
        ],
        [
         "89",
         "NM_559_1",
         "Hours worked",
         "QS604EW",
         "Hours worked"
        ],
        [
         "124",
         "NM_562_1",
         "NS-SeC",
         "QS607EW",
         "NS-SeC"
        ],
        [
         "373",
         "NM_933_1",
         "Country of birth",
         "WD203EW",
         "Country of birth"
        ]
       ],
       "shape": {
        "columns": 4,
        "rows": 7
       }
      },
      "text/html": [
       "<div>\n",
       "<style scoped>\n",
       "    .dataframe tbody tr th:only-of-type {\n",
       "        vertical-align: middle;\n",
       "    }\n",
       "\n",
       "    .dataframe tbody tr th {\n",
       "        vertical-align: top;\n",
       "    }\n",
       "\n",
       "    .dataframe thead th {\n",
       "        text-align: right;\n",
       "    }\n",
       "</style>\n",
       "<table border=\"1\" class=\"dataframe\">\n",
       "  <thead>\n",
       "    <tr style=\"text-align: right;\">\n",
       "      <th></th>\n",
       "      <th>dataset_id</th>\n",
       "      <th>dataset_name</th>\n",
       "      <th>dataset_code</th>\n",
       "      <th>matched_interest</th>\n",
       "    </tr>\n",
       "  </thead>\n",
       "  <tbody>\n",
       "    <tr>\n",
       "      <th>6</th>\n",
       "      <td>NM_611_1</td>\n",
       "      <td>Country of birth</td>\n",
       "      <td>KS204EW</td>\n",
       "      <td>Country of birth</td>\n",
       "    </tr>\n",
       "    <tr>\n",
       "      <th>15</th>\n",
       "      <td>NM_617_1</td>\n",
       "      <td>Health and provision of unpaid care</td>\n",
       "      <td>KS301EW</td>\n",
       "      <td>Health</td>\n",
       "    </tr>\n",
       "    <tr>\n",
       "      <th>17</th>\n",
       "      <td>NM_625_1</td>\n",
       "      <td>Hours worked</td>\n",
       "      <td>KS604EW</td>\n",
       "      <td>Hours worked</td>\n",
       "    </tr>\n",
       "    <tr>\n",
       "      <th>72</th>\n",
       "      <td>NM_153_1</td>\n",
       "      <td>Distance travelled to work</td>\n",
       "      <td>QS702EW</td>\n",
       "      <td>Distance travelled to work</td>\n",
       "    </tr>\n",
       "    <tr>\n",
       "      <th>89</th>\n",
       "      <td>NM_559_1</td>\n",
       "      <td>Hours worked</td>\n",
       "      <td>QS604EW</td>\n",
       "      <td>Hours worked</td>\n",
       "    </tr>\n",
       "    <tr>\n",
       "      <th>124</th>\n",
       "      <td>NM_562_1</td>\n",
       "      <td>NS-SeC</td>\n",
       "      <td>QS607EW</td>\n",
       "      <td>NS-SeC</td>\n",
       "    </tr>\n",
       "    <tr>\n",
       "      <th>373</th>\n",
       "      <td>NM_933_1</td>\n",
       "      <td>Country of birth</td>\n",
       "      <td>WD203EW</td>\n",
       "      <td>Country of birth</td>\n",
       "    </tr>\n",
       "  </tbody>\n",
       "</table>\n",
       "</div>"
      ],
      "text/plain": [
       "    dataset_id                         dataset_name dataset_code  \\\n",
       "6     NM_611_1                     Country of birth      KS204EW   \n",
       "15    NM_617_1  Health and provision of unpaid care      KS301EW   \n",
       "17    NM_625_1                         Hours worked      KS604EW   \n",
       "72    NM_153_1           Distance travelled to work      QS702EW   \n",
       "89    NM_559_1                         Hours worked      QS604EW   \n",
       "124   NM_562_1                               NS-SeC      QS607EW   \n",
       "373   NM_933_1                     Country of birth      WD203EW   \n",
       "\n",
       "               matched_interest  \n",
       "6              Country of birth  \n",
       "15                       Health  \n",
       "17                 Hours worked  \n",
       "72   Distance travelled to work  \n",
       "89                 Hours worked  \n",
       "124                      NS-SeC  \n",
       "373            Country of birth  "
      ]
     },
     "execution_count": 8,
     "metadata": {},
     "output_type": "execute_result"
    }
   ],
   "source": [
    "# Datasets of interest\n",
    "dataset_ids_2011 = ['NM_611_1', 'NM_617_1', 'NM_625_1', 'NM_153_1', 'NM_559_1', 'NM_562_1', 'NM_933_1']\n",
    "\n",
    "# View and confirm needed datasets\n",
    "availableDatasets_2011[\n",
    "    availableDatasets_2011['dataset_id'].isin(dataset_ids_2011)\n",
    "]"
   ]
  },
  {
   "cell_type": "code",
   "execution_count": 9,
   "id": "942a4590",
   "metadata": {},
   "outputs": [
    {
     "data": {
      "application/vnd.microsoft.datawrangler.viewer.v0+json": {
       "columns": [
        {
         "name": "index",
         "rawType": "int64",
         "type": "integer"
        },
        {
         "name": "dataset_id",
         "rawType": "object",
         "type": "string"
        },
        {
         "name": "dataset_name",
         "rawType": "object",
         "type": "string"
        },
        {
         "name": "dataset_code",
         "rawType": "object",
         "type": "string"
        },
        {
         "name": "matched_interest",
         "rawType": "object",
         "type": "string"
        }
       ],
       "ref": "95ac8a11-71ca-4c26-974e-df614ef629a2",
       "rows": [
        [
         "23",
         "NM_2024_1",
         "Country of birth",
         "TS004",
         "Country of birth"
        ],
        [
         "28",
         "NM_2056_1",
         "Disability",
         "TS038",
         "Disability"
        ],
        [
         "31",
         "NM_2075_1",
         "Distance travelled to work",
         "TS058",
         "Distance travelled to work"
        ],
        [
         "65",
         "NM_2076_1",
         "Hours worked",
         "TS059",
         "Hours worked"
        ],
        [
         "88",
         "NM_2039_1",
         "Migrant Indicator",
         "TS019",
         "Migrant"
        ],
        [
         "108",
         "NM_2079_1",
         "NS-SeC",
         "TS062",
         "NS-SeC"
        ]
       ],
       "shape": {
        "columns": 4,
        "rows": 6
       }
      },
      "text/html": [
       "<div>\n",
       "<style scoped>\n",
       "    .dataframe tbody tr th:only-of-type {\n",
       "        vertical-align: middle;\n",
       "    }\n",
       "\n",
       "    .dataframe tbody tr th {\n",
       "        vertical-align: top;\n",
       "    }\n",
       "\n",
       "    .dataframe thead th {\n",
       "        text-align: right;\n",
       "    }\n",
       "</style>\n",
       "<table border=\"1\" class=\"dataframe\">\n",
       "  <thead>\n",
       "    <tr style=\"text-align: right;\">\n",
       "      <th></th>\n",
       "      <th>dataset_id</th>\n",
       "      <th>dataset_name</th>\n",
       "      <th>dataset_code</th>\n",
       "      <th>matched_interest</th>\n",
       "    </tr>\n",
       "  </thead>\n",
       "  <tbody>\n",
       "    <tr>\n",
       "      <th>23</th>\n",
       "      <td>NM_2024_1</td>\n",
       "      <td>Country of birth</td>\n",
       "      <td>TS004</td>\n",
       "      <td>Country of birth</td>\n",
       "    </tr>\n",
       "    <tr>\n",
       "      <th>28</th>\n",
       "      <td>NM_2056_1</td>\n",
       "      <td>Disability</td>\n",
       "      <td>TS038</td>\n",
       "      <td>Disability</td>\n",
       "    </tr>\n",
       "    <tr>\n",
       "      <th>31</th>\n",
       "      <td>NM_2075_1</td>\n",
       "      <td>Distance travelled to work</td>\n",
       "      <td>TS058</td>\n",
       "      <td>Distance travelled to work</td>\n",
       "    </tr>\n",
       "    <tr>\n",
       "      <th>65</th>\n",
       "      <td>NM_2076_1</td>\n",
       "      <td>Hours worked</td>\n",
       "      <td>TS059</td>\n",
       "      <td>Hours worked</td>\n",
       "    </tr>\n",
       "    <tr>\n",
       "      <th>88</th>\n",
       "      <td>NM_2039_1</td>\n",
       "      <td>Migrant Indicator</td>\n",
       "      <td>TS019</td>\n",
       "      <td>Migrant</td>\n",
       "    </tr>\n",
       "    <tr>\n",
       "      <th>108</th>\n",
       "      <td>NM_2079_1</td>\n",
       "      <td>NS-SeC</td>\n",
       "      <td>TS062</td>\n",
       "      <td>NS-SeC</td>\n",
       "    </tr>\n",
       "  </tbody>\n",
       "</table>\n",
       "</div>"
      ],
      "text/plain": [
       "    dataset_id                dataset_name dataset_code  \\\n",
       "23   NM_2024_1            Country of birth        TS004   \n",
       "28   NM_2056_1                  Disability        TS038   \n",
       "31   NM_2075_1  Distance travelled to work        TS058   \n",
       "65   NM_2076_1                Hours worked        TS059   \n",
       "88   NM_2039_1           Migrant Indicator        TS019   \n",
       "108  NM_2079_1                      NS-SeC        TS062   \n",
       "\n",
       "               matched_interest  \n",
       "23             Country of birth  \n",
       "28                   Disability  \n",
       "31   Distance travelled to work  \n",
       "65                 Hours worked  \n",
       "88                      Migrant  \n",
       "108                      NS-SeC  "
      ]
     },
     "execution_count": 9,
     "metadata": {},
     "output_type": "execute_result"
    }
   ],
   "source": [
    "# Datasets of interest\n",
    "dataset_ids_2021 = ['NM_2024_1', 'NM_2056_1', 'NM_2075_1', 'NM_2076_1', 'NM_2039_1', 'NM_2079_1']\n",
    "\n",
    "# View and confirm needed datasets\n",
    "availableDatasets_2021[\n",
    "    availableDatasets_2021['dataset_id'].isin(dataset_ids_2021)\n",
    "]"
   ]
  },
  {
   "cell_type": "code",
   "execution_count": null,
   "id": "6e06381d",
   "metadata": {},
   "outputs": [],
   "source": [
    "import os\n",
    "import re\n",
    "import json\n",
    "import logging\n",
    "import requests\n",
    "import pandas as pd\n",
    "from io import BytesIO\n",
    "\n",
    "class NOMISDatasetManager:\n",
    "    def __init__(self, mapping_file=\"column_names_mapping.json\", default_output=\"merged_output.csv\"):\n",
    "        self.mapping_file = mapping_file\n",
    "        self.default_output = default_output\n",
    "\n",
    "    import requests\n",
    "\n",
    "    def _build_url(self, dataset_id: str, year: int) -> str:\n",
    "        \"\"\"Build the NOMIS API URL by checking API metadata for percent and rural/urban.\"\"\"\n",
    "        assert year in [2011, 2021], \"Year must be 2011 or 2021\"\n",
    "\n",
    "        # ----------------------------\n",
    "        # 1. Check if Percent is available\n",
    "        # ----------------------------\n",
    "        has_percent = False\n",
    "        try:\n",
    "            url_measures = f\"https://www.nomisweb.co.uk/api/v01/dataset/{dataset_id}.def.sdmx.json?measures\"\n",
    "            resp_meas = requests.get(url_measures, timeout=10)\n",
    "            resp_meas.raise_for_status()\n",
    "            data_meas = resp_meas.json()\n",
    "\n",
    "            codelists = data_meas.get(\"structure\", {}).get(\"codelists\", {}).get(\"codelist\", [])\n",
    "            if codelists:\n",
    "                codes = codelists[0].get(\"code\", [])\n",
    "                has_percent = any(\n",
    "                    any(ann.get(\"annotationtext\") == \"Percent\"\n",
    "                        for ann in code.get(\"annotations\", {}).get(\"annotation\", []))\n",
    "                    for code in codes\n",
    "                )\n",
    "        except Exception as e:\n",
    "            print(f\"[WARN] Could not check measures for {dataset_id}: {e}\")\n",
    "\n",
    "        measure = \"20301\" if has_percent else \"20100\"\n",
    "\n",
    "        # ----------------------------\n",
    "        # 2. Check if RURAL_URBAN is a dimension\n",
    "        # ----------------------------\n",
    "        has_rural_urban = False\n",
    "        try:\n",
    "            url_def = f\"https://www.nomisweb.co.uk/api/v01/dataset/{dataset_id}.def.sdmx.json\"\n",
    "            resp_def = requests.get(url_def, timeout=10)\n",
    "            resp_def.raise_for_status()\n",
    "            data_def = resp_def.json()\n",
    "\n",
    "            dimensions = (\n",
    "                data_def.get(\"structure\", {})\n",
    "                    .get(\"keyfamilies\", {})\n",
    "                    .get(\"keyfamily\", [])[0]\n",
    "                    .get(\"components\", {})\n",
    "                    .get(\"dimension\", [])\n",
    "            )\n",
    "            has_rural_urban = any(dim.get(\"conceptref\") == \"RURAL_URBAN\" for dim in dimensions)\n",
    "        except Exception as e:\n",
    "            print(f\"[WARN] Could not check dimensions for {dataset_id}: {e}\")\n",
    "\n",
    "        # ----------------------------\n",
    "        # 3. Geography differs by year\n",
    "        # ----------------------------\n",
    "        geography = \"2092957703TYPE298\" if year == 2011 else \"2092957703TYPE151\"\n",
    "        ru_filter = \"&rural_urban=total\" if has_rural_urban else \"\"\n",
    "\n",
    "        # ----------------------------\n",
    "        # 4. Final URL\n",
    "        # ----------------------------\n",
    "        url = (\n",
    "            f\"https://www.nomisweb.co.uk/api/v01/dataset/\"\n",
    "            f\"{dataset_id}.bulk.csv?time=latest&measures={measure}&geography={geography}{ru_filter}\"\n",
    "        )\n",
    "\n",
    "        return url\n",
    "\n",
    "\n",
    "    def getDatasetById(self, dataset_id: str, year: int) -> pd.DataFrame | None:\n",
    "        \"\"\"\n",
    "        Try fetching dataset with pct=True first. If it fails, retry with pct=False.\n",
    "        Returns a DataFrame on success, or None on failure.\n",
    "        \"\"\"\n",
    "        # for pct in [True, False]:\n",
    "        url = self._build_url(dataset_id, year)\n",
    "        try:\n",
    "            logging.info(f\"Fetching dataset '{dataset_id}' from {url}\")\n",
    "\n",
    "            response = requests.get(url, timeout=30)\n",
    "            response.raise_for_status()\n",
    "\n",
    "            df = pd.read_csv(BytesIO(response.content))\n",
    "            logging.info(\n",
    "                f\"Dataset '{dataset_id}' loaded successfully \"\n",
    "                f\"with {len(df)} rows.\"\n",
    "            )\n",
    "            return df\n",
    "        except requests.exceptions.RequestException as e:\n",
    "            logging.error(f\"Request failed for dataset '{dataset_id}': {e}\")\n",
    "        except pd.errors.ParserError as e:\n",
    "            logging.error(f\"Failed to parse CSV for dataset '{dataset_id}': {e}\")\n",
    "        except Exception as e:\n",
    "            logging.error(f\"Unexpected error for dataset '{dataset_id}': {e}\")\n",
    "\n",
    "        logging.error(f\"Unable to download dataset '{dataset_id}'.\")\n",
    "        return None\n",
    "\n",
    "    def cleanDataframe(self, df, dataset_id):\n",
    "        # Drop constant columns\n",
    "        df = df.loc[:, df.nunique(dropna=False) > 1]\n",
    "\n",
    "        # Clean column names\n",
    "        mapping = {}\n",
    "        new_cols = {}\n",
    "        for col in df.columns:\n",
    "            cleaned = col.split(\";\")[0]                # remove after ';'\n",
    "            cleaned = re.sub(r'[^0-9a-zA-Z]+', ' ', cleaned)  # keep alnum, replace rest with space\n",
    "            cleaned = ''.join(word.capitalize() for word in cleaned.split())  # PascalCase\n",
    "            if cleaned and cleaned.lower() not in [\"geography\", \"geographycode\"]:\n",
    "                cleaned = f\"{dataset_id}_{cleaned}\"\n",
    "            new_cols[col] = cleaned\n",
    "            mapping[col] = cleaned\n",
    "\n",
    "        df = df.rename(columns=new_cols)\n",
    "\n",
    "        # Save mapping\n",
    "        self._save_mapping(dataset_id, mapping)\n",
    "\n",
    "        return df\n",
    "\n",
    "    def _save_mapping(self, dataset_code, mapping):\n",
    "        # Append or create JSON mapping file\n",
    "        if os.path.exists(self.mapping_file):\n",
    "            with open(self.mapping_file, \"r\") as f:\n",
    "                try:\n",
    "                    all_mappings = json.load(f)\n",
    "                except json.JSONDecodeError:\n",
    "                    all_mappings = {}\n",
    "        else:\n",
    "            all_mappings = {}\n",
    "\n",
    "        all_mappings[dataset_code] = mapping\n",
    "\n",
    "        with open(self.mapping_file, \"w\") as f:\n",
    "            json.dump(all_mappings, f, indent=4)\n",
    "\n",
    "    def mergeDatasetsByCodes(self, dataset_ids, year, file_path=None, col_names_mapping_path=None):\n",
    "        output_file = file_path or self.default_output\n",
    "        self.mapping_file = col_names_mapping_path or self.mapping_file\n",
    "\n",
    "        # Load existing merged dataframe if file exists\n",
    "        if os.path.exists(output_file):\n",
    "            merged_df = pd.read_csv(output_file)\n",
    "            logging.info(f\"Loaded existing dataframe from {output_file} with shape {merged_df.shape}\")\n",
    "        else:\n",
    "            merged_df = None\n",
    "\n",
    "        for id in dataset_ids:\n",
    "            # Skip if already merged\n",
    "            if merged_df is not None and any(col.startswith(f\"{id}_\") for col in merged_df.columns):\n",
    "                logging.info(f\"Dataset code {id} already merged. Skipping.\")\n",
    "                continue\n",
    "\n",
    "            logging.info(f\"Processing dataset id: {id}\")\n",
    "            \n",
    "            \n",
    "            df = self.getDatasetById(id, year)\n",
    "\n",
    "            if df is None:\n",
    "                logging.warning(f\"Skipping dataset code {id} due to fetch error.\")\n",
    "                continue\n",
    "\n",
    "            df = self.cleanDataframe(df, id)\n",
    "\n",
    "            # Check required merge columns\n",
    "            if not {\"Geography\", \"GeographyCode\"}.issubset(set(df.columns)):\n",
    "                logging.warning(f\"Dataset ID {id} missing required merge columns. Skipping.\")\n",
    "                continue\n",
    "\n",
    "            # Merge\n",
    "            if merged_df is None:\n",
    "                merged_df = df\n",
    "            else:\n",
    "                merged_df = pd.merge(\n",
    "                    merged_df, df,\n",
    "                    on=[\"Geography\", \"GeographyCode\"],\n",
    "                    how='outer'\n",
    "                )\n",
    "   \n",
    "        merged_df.to_csv(output_file, index=False)\n",
    "        if merged_df is not None:\n",
    "            logging.info(f\"Final merged dataframe saved to {output_file} with shape {merged_df.shape}\")\n",
    "        else:\n",
    "            logging.warning(f\"Created new dataset {output_file}\")\n",
    "\n",
    "        return merged_df\n"
   ]
  },
  {
   "cell_type": "code",
   "execution_count": null,
   "id": "72f8b25a",
   "metadata": {},
   "outputs": [
    {
     "name": "stderr",
     "output_type": "stream",
     "text": [
      "2025-09-28 01:59:48,538 - INFO - Processing dataset id: NM_611_1\n",
      "2025-09-28 01:59:51,120 - INFO - Fetching dataset 'NM_611_1' from https://www.nomisweb.co.uk/api/v01/dataset/NM_611_1.bulk.csv?time=latest&measures=20301&geography=2092957703TYPE298&rural_urban=total\n",
      "2025-09-28 02:01:24,757 - INFO - Dataset 'NM_611_1' loaded successfully with 34753 rows.\n",
      "2025-09-28 02:01:24,798 - INFO - Processing dataset id: NM_617_1\n",
      "2025-09-28 02:01:27,641 - INFO - Fetching dataset 'NM_617_1' from https://www.nomisweb.co.uk/api/v01/dataset/NM_617_1.bulk.csv?time=latest&measures=20301&geography=2092957703TYPE298&rural_urban=total\n",
      "2025-09-28 02:02:57,407 - INFO - Dataset 'NM_617_1' loaded successfully with 34753 rows.\n",
      "2025-09-28 02:02:57,523 - INFO - Processing dataset id: NM_625_1\n",
      "2025-09-28 02:03:00,312 - INFO - Fetching dataset 'NM_625_1' from https://www.nomisweb.co.uk/api/v01/dataset/NM_625_1.bulk.csv?time=latest&measures=20301&geography=2092957703TYPE298&rural_urban=total\n",
      "2025-09-28 02:04:42,368 - INFO - Dataset 'NM_625_1' loaded successfully with 34753 rows.\n",
      "2025-09-28 02:04:42,470 - INFO - Processing dataset id: NM_153_1\n",
      "2025-09-28 02:04:48,298 - INFO - Fetching dataset 'NM_153_1' from https://www.nomisweb.co.uk/api/v01/dataset/NM_153_1.bulk.csv?time=latest&measures=20100&geography=2092957703TYPE298&rural_urban=total\n",
      "2025-09-28 02:06:00,161 - INFO - Dataset 'NM_153_1' loaded successfully with 34753 rows.\n",
      "2025-09-28 02:06:00,252 - INFO - Processing dataset id: NM_559_1\n",
      "2025-09-28 02:06:02,896 - INFO - Fetching dataset 'NM_559_1' from https://www.nomisweb.co.uk/api/v01/dataset/NM_559_1.bulk.csv?time=latest&measures=20301&geography=2092957703TYPE298&rural_urban=total\n",
      "2025-09-28 02:06:35,476 - INFO - Dataset 'NM_559_1' loaded successfully with 34753 rows.\n",
      "2025-09-28 02:06:35,668 - INFO - Processing dataset id: NM_562_1\n",
      "2025-09-28 02:06:38,267 - INFO - Fetching dataset 'NM_562_1' from https://www.nomisweb.co.uk/api/v01/dataset/NM_562_1.bulk.csv?time=latest&measures=20301&geography=2092957703TYPE298&rural_urban=total\n",
      "2025-09-28 02:07:18,045 - INFO - Dataset 'NM_562_1' loaded successfully with 19127 rows.\n",
      "2025-09-28 02:07:18,167 - INFO - Processing dataset id: NM_933_1\n",
      "2025-09-28 02:07:20,752 - INFO - Fetching dataset 'NM_933_1' from https://www.nomisweb.co.uk/api/v01/dataset/NM_933_1.bulk.csv?time=latest&measures=20100&geography=2092957703TYPE298\n",
      "2025-09-28 02:08:01,077 - INFO - Dataset 'NM_933_1' loaded successfully with 34753 rows.\n",
      "2025-09-28 02:08:03,543 - INFO - Final merged dataframe saved to census_data_2011_v2.csv with shape (34753, 192)\n"
     ]
    }
   ],
   "source": [
    "manager = NOMISDatasetManager()\n",
    "manager.mergeDatasetsByCodes(\n",
    "    dataset_ids_2011, 2011, file_path='census_data_2011_v2.csv', col_names_mapping_path='column_names_census_2011'\n",
    ")\n"
   ]
  },
  {
   "cell_type": "code",
   "execution_count": null,
   "id": "78bc0a02",
   "metadata": {},
   "outputs": [
    {
     "name": "stderr",
     "output_type": "stream",
     "text": [
      "2025-09-28 02:08:25,781 - INFO - Processing dataset id: NM_2024_1\n",
      "2025-09-28 02:08:28,405 - INFO - Fetching dataset 'NM_2024_1' from https://www.nomisweb.co.uk/api/v01/dataset/NM_2024_1.bulk.csv?time=latest&measures=20301&geography=2092957703TYPE151\n",
      "2025-09-28 02:09:13,183 - INFO - Dataset 'NM_2024_1' loaded successfully with 35672 rows.\n",
      "2025-09-28 02:09:13,216 - INFO - Processing dataset id: NM_2056_1\n",
      "2025-09-28 02:09:15,714 - INFO - Fetching dataset 'NM_2056_1' from https://www.nomisweb.co.uk/api/v01/dataset/NM_2056_1.bulk.csv?time=latest&measures=20301&geography=2092957703TYPE151\n",
      "2025-09-28 02:09:38,892 - INFO - Dataset 'NM_2056_1' loaded successfully with 35672 rows.\n",
      "2025-09-28 02:09:38,988 - INFO - Processing dataset id: NM_2075_1\n",
      "2025-09-28 02:09:41,536 - INFO - Fetching dataset 'NM_2075_1' from https://www.nomisweb.co.uk/api/v01/dataset/NM_2075_1.bulk.csv?time=latest&measures=20301&geography=2092957703TYPE151\n",
      "2025-09-28 02:10:05,271 - INFO - Dataset 'NM_2075_1' loaded successfully with 35672 rows.\n",
      "2025-09-28 02:10:05,367 - INFO - Processing dataset id: NM_2076_1\n",
      "2025-09-28 02:10:07,940 - INFO - Fetching dataset 'NM_2076_1' from https://www.nomisweb.co.uk/api/v01/dataset/NM_2076_1.bulk.csv?time=latest&measures=20301&geography=2092957703TYPE151\n",
      "2025-09-28 02:10:24,798 - INFO - Dataset 'NM_2076_1' loaded successfully with 35672 rows.\n",
      "2025-09-28 02:10:24,897 - INFO - Processing dataset id: NM_2039_1\n",
      "2025-09-28 02:10:27,494 - INFO - Fetching dataset 'NM_2039_1' from https://www.nomisweb.co.uk/api/v01/dataset/NM_2039_1.bulk.csv?time=latest&measures=20301&geography=2092957703TYPE151\n",
      "2025-09-28 02:10:56,276 - INFO - Dataset 'NM_2039_1' loaded successfully with 35672 rows.\n",
      "2025-09-28 02:10:56,391 - INFO - Processing dataset id: NM_2079_1\n",
      "2025-09-28 02:10:58,860 - INFO - Fetching dataset 'NM_2079_1' from https://www.nomisweb.co.uk/api/v01/dataset/NM_2079_1.bulk.csv?time=latest&measures=20301&geography=2092957703TYPE151\n",
      "2025-09-28 02:11:28,894 - INFO - Dataset 'NM_2079_1' loaded successfully with 35672 rows.\n",
      "2025-09-28 02:11:29,971 - INFO - Final merged dataframe saved to census_data_2021_v2.csv with shape (35672, 50)\n"
     ]
    }
   ],
   "source": [
    "manager.mergeDatasetsByCodes(\n",
    "    dataset_ids_2021, 2021, columns_file_path='census_data_2021_v2.csv', col_names_mapping_path='column_names_census_2021'\n",
    ")"
   ]
  }
 ],
 "metadata": {
  "kernelspec": {
   "display_name": "ml_env",
   "language": "python",
   "name": "python3"
  },
  "language_info": {
   "codemirror_mode": {
    "name": "ipython",
    "version": 3
   },
   "file_extension": ".py",
   "mimetype": "text/x-python",
   "name": "python",
   "nbconvert_exporter": "python",
   "pygments_lexer": "ipython3",
   "version": "3.12.4"
  }
 },
 "nbformat": 4,
 "nbformat_minor": 5
}
